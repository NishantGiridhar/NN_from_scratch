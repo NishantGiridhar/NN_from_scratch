{
 "cells": [
  {
   "cell_type": "code",
   "execution_count": 1,
   "id": "2a28336a",
   "metadata": {},
   "outputs": [],
   "source": [
    "import gzip\n",
    "import os\n",
    "from urllib.request import urlretrieve\n",
    "import numpy as np\n",
    "\n",
    "from convenience_functions import get_mnist\n",
    "\n",
    "from NetworkModules.Network import Network\n",
    "from NetworkModules.Layers import *\n",
    "from NetworkModules.Activations import *\n",
    "from NetworkModules.LossFunctions import *  \n"
   ]
  },
  {
   "cell_type": "code",
   "execution_count": 2,
   "id": "3459643e",
   "metadata": {},
   "outputs": [
    {
     "name": "stdout",
     "output_type": "stream",
     "text": [
      "Train X shape = (60000, 784)\n",
      "Train Y shape = (60000, 10)\n",
      "Test  X shape  = (10000, 784)\n",
      "Test  Y shape  = (10000, 10)\n"
     ]
    }
   ],
   "source": [
    "train_X, train_Y, test_X, test_Y = get_mnist(\"C:/Users/nisha/project_repositories/MNIST_from_scratch/MNIST_From_Scratch/dataset\")\n",
    "\n",
    "\n",
    "print(f'Train X shape = {train_X.shape}')\n",
    "print(f'Train Y shape = {train_Y.shape}')\n",
    "print(f'Test  X shape  = {test_X.shape}')\n",
    "print(f'Test  Y shape  = {test_Y.shape}')\n"
   ]
  },
  {
   "cell_type": "code",
   "execution_count": 3,
   "id": "721018a1",
   "metadata": {},
   "outputs": [
    {
     "data": {
      "image/png": "[encoded data removed]",
      "text/plain": [
       "<Figure size 640x480 with 1 Axes>"
      ]
     },
     "metadata": {},
     "output_type": "display_data"
    }
   ],
   "source": [
    "import matplotlib.pyplot as plt\n",
    "\n",
    "# pick a sample to plot\n",
    "sample = 8\n",
    "image = train_X[sample].reshape(28, 28)\n",
    "# plot the sample\n",
    "fig = plt.figure\n",
    "plt.imshow(image, cmap='gray')\n",
    "plt.title(f'This image is a {int(np.argwhere(train_Y[sample]== 1))}')\n",
    "plt.show()"
   ]
  },
  {
   "cell_type": "code",
   "execution_count": 4,
   "id": "c91a5afd",
   "metadata": {},
   "outputs": [
    {
     "name": "stdout",
     "output_type": "stream",
     "text": [
      "iter       Loss      Train Accuracy        Val Accuracy\n",
      "1          1.04                82.6               83.58\n",
      "6          0.35                89.9               90.74\n",
      "11         0.31               91.09               91.67\n",
      "16         0.29               91.58               91.99\n",
      "21         0.28               91.91               92.11\n",
      "26         0.27               92.06               92.29\n",
      "31         0.27                92.2               92.39\n",
      "36         0.27                92.3                92.5\n",
      "41         0.26               92.37               92.52\n",
      "46         0.26               92.43               92.59\n",
      "51         0.26               92.46               92.59\n",
      "56         0.26                92.5               92.62\n",
      "61         0.26               92.51               92.62\n",
      "66         0.26               92.53               92.63\n",
      "71         0.26               92.54               92.65\n",
      "76         0.26               92.56               92.66\n",
      "81         0.26               92.56               92.67\n",
      "86         0.26               92.56               92.68\n",
      "91         0.26               92.56               92.67\n",
      "96         0.26               92.57               92.67\n",
      "100        0.26               92.58               92.66\n",
      "Training Complete\n"
     ]
    }
   ],
   "source": [
    "net = Network()\n",
    "net.add_layer(FullyConnectedLinearLayer(784, 128))\n",
    "net.add_layer(ActivationLayer(relU, drelU), dropout_layer=False, keep_prob=0.8)\n",
    "net.add_layer(FullyConnectedLinearLayer(128, 64))\n",
    "net.add_layer(ActivationLayer(relU, drelU), dropout_layer=False, keep_prob=0.8)\n",
    "net.add_layer(FullyConnectedLinearLayer(64, 10))\n",
    "net.add_layer(ActivationLayer(softmax, dsoftmax))\n",
    "\n",
    "net.set_loss(cross_entropy_loss, dcross_entropy_loss)\n",
    "\n",
    "net.load_data( train_X[0:60000,:].T, train_Y[0:60000,:].T, test_X[0:10000,:].T, test_Y[0:10000,:].T)\n",
    "\n",
    "net._reinitalize_weights()\n",
    "\n",
    "def accuracy_metric(X, Y):\n",
    "    return (np.argmax(net.inference(X), axis=0) == np.argmax(Y, axis=0)).sum() / Y.shape[1] * 100\n",
    "\n",
    "net.add_accurace_function(accuracy_metric)\n",
    "\n",
    "\n",
    "net._mini_batch_gradient_descent(learning_rate=0.01, epochs=100, batch_size = 128, L2_reg = True, L2_lambda = 0.01)\n",
    "\n"
   ]
  },
  {
   "cell_type": "code",
   "execution_count": 13,
   "id": "7922c715",
   "metadata": {},
   "outputs": [
    {
     "data": {
      "image/png": "[encoded data removed]",
      "text/plain": [
       "<Figure size 640x480 with 1 Axes>"
      ]
     },
     "metadata": {},
     "output_type": "display_data"
    }
   ],
   "source": [
    "import matplotlib.pyplot as plt\n",
    "\n",
    "# pick a sample to plot\n",
    "sample = 3698\n",
    "image = test_X[sample].reshape(28, 28)\n",
    "\n",
    "example = test_X[sample].reshape(784, 1)\n",
    "y_out= net.inference(example)\n",
    "\n",
    "ind = np.argmax(y_out)\n",
    "\n",
    "\n",
    "# plot the sample\n",
    "fig = plt.figure\n",
    "plt.imshow(image, cmap='gray')\n",
    "\n",
    "plt.title(f'Predicted {ind} with prob {round(float(y_out[ind]),3)}')\n",
    "plt.show()"
   ]
  },
  {
   "cell_type": "code",
   "execution_count": null,
   "id": "996baecf",
   "metadata": {},
   "outputs": [],
   "source": [
    "\n",
    "\n",
    "\n",
    "# training data\n",
    "x_train = np.array([[0,0], [0,1], [1,0], [1,1]]).T\n",
    "y_train = np.array([[0], [1], [1], [0]]).T\n",
    "\n",
    "\n",
    "net = Network()\n",
    "net.add_layer(FullyConnectedLinearLayer(2, 3))\n",
    "net.add_layer(ActivationLayer(tanh, dtanh))\n",
    "net.add_layer(FullyConnectedLinearLayer(3, 1))\n",
    "net.add_layer(ActivationLayer(tanh, dtanh))\n",
    "\n",
    "net.set_loss(mse_loss, dmse_loss)\n",
    "\n",
    "net.load_data( x_train, y_train)\n",
    "\n",
    "net.add_accurace_function(mse_loss)\n",
    "\n",
    "net._stochastic_gradient_descent(learning_rate=0.1, epochs=100)"
   ]
  },
  {
   "cell_type": "code",
   "execution_count": null,
   "id": "aa20dac8",
   "metadata": {},
   "outputs": [],
   "source": [
    "from scipy.io import loadmat\n",
    "\n",
    "dat = {}\n",
    "NN_data = loadmat('dataset/NN_proj_data_10.mat', mdict = dat)"
   ]
  },
  {
   "cell_type": "code",
   "execution_count": null,
   "id": "4da8bc1b",
   "metadata": {},
   "outputs": [],
   "source": [
    "x_train = dat['inp_train']\n",
    "y_train = dat['y10']\n",
    "\n",
    "x_valid = dat['inp_valid']\n",
    "y_valid = dat['y10val']\n",
    "\n",
    "net = Network()\n",
    "net.add_layer(FullyConnectedLinearLayer(1, 2))\n",
    "net.add_layer(ActivationLayer(tanh, dtanh))\n",
    "net.add_layer(FullyConnectedLinearLayer(2, 2))\n",
    "net.add_layer(ActivationLayer(tanh, dtanh))\n",
    "net.add_layer(FullyConnectedLinearLayer(2, 1))\n",
    "\n",
    "\n",
    "# net.add_layer(ActivationLayer(tanh, dtanh))\n",
    "\n",
    "# net._reinitalize_weights()\n",
    "\n",
    "net.set_loss(mse_loss, dmse_loss)\n",
    "\n",
    "net.load_data( x_train, y_train, x_valid, y_valid)\n",
    "\n",
    "\n",
    "def mse_accuracy(X, Y):\n",
    "    return np.sum(np.power(net.inference(X) - Y, 2))\n",
    "\n",
    "net.add_accurace_function(mse_accuracy)\n",
    "\n",
    "net._batch_gradient_descent(learning_rate=0.1, epochs=500)\n",
    "\n"
   ]
  },
  {
   "cell_type": "code",
   "execution_count": null,
   "id": "b43c5a19",
   "metadata": {},
   "outputs": [],
   "source": [
    "x_valid = dat['inp_valid']\n",
    "y_valid = dat['y10val']\n",
    "\n",
    "val_output = net.inference(x_valid)\n",
    "\n",
    "np.mean(np.power(val_output - y_valid, 2))\n",
    "\n"
   ]
  },
  {
   "cell_type": "code",
   "execution_count": null,
   "id": "257baa94",
   "metadata": {},
   "outputs": [],
   "source": [
    "y_valid"
   ]
  },
  {
   "cell_type": "code",
   "execution_count": null,
   "id": "4ea0a604",
   "metadata": {},
   "outputs": [],
   "source": [
    "net.inference(x_valid)"
   ]
  },
  {
   "cell_type": "code",
   "execution_count": null,
   "id": "183f2afc",
   "metadata": {},
   "outputs": [],
   "source": []
  }
 ],
 "metadata": {
  "kernelspec": {
   "display_name": "Python 3 (ipykernel)",
   "language": "python",
   "name": "python3"
  },
  "language_info": {
   "codemirror_mode": {
    "name": "ipython",
    "version": 3
   },
   "file_extension": ".py",
   "mimetype": "text/x-python",
   "name": "python",
   "nbconvert_exporter": "python",
   "pygments_lexer": "ipython3",
   "version": "3.10.10"
  }
 },
 "nbformat": 4,
 "nbformat_minor": 5
}
