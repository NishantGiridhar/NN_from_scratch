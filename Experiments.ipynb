{
 "cells": [
  {
   "cell_type": "code",
   "execution_count": 9,
   "id": "2a28336a",
   "metadata": {},
   "outputs": [],
   "source": [
    "import gzip\n",
    "import os\n",
    "from urllib.request import urlretrieve\n",
    "import numpy as np\n",
    "\n",
    "from convenience_functions import get_mnist\n",
    "\n",
    "from NetworkModules.Network import Network\n",
    "from NetworkModules.Layers import *\n",
    "from NetworkModules.Activations import *\n",
    "from NetworkModules.LossFunctions import *  \n"
   ]
  },
  {
   "attachments": {},
   "cell_type": "markdown",
   "id": "ff7aff78",
   "metadata": {},
   "source": [
    "# MNIST Dataset"
   ]
  },
  {
   "cell_type": "code",
   "execution_count": 10,
   "id": "3459643e",
   "metadata": {},
   "outputs": [
    {
     "name": "stdout",
     "output_type": "stream",
     "text": [
      "Train X shape = (60000, 784)\n",
      "Train Y shape = (60000, 10)\n",
      "Test  X shape  = (10000, 784)\n",
      "Test  Y shape  = (10000, 10)\n"
     ]
    }
   ],
   "source": [
    "train_X, train_Y, test_X, test_Y = get_mnist(\"C:/Users/nisha/project_repositories/MNIST_from_scratch/MNIST_From_Scratch/dataset\")\n",
    "\n",
    "\n",
    "print(f'Train X shape = {train_X.shape}')\n",
    "print(f'Train Y shape = {train_Y.shape}')\n",
    "print(f'Test  X shape  = {test_X.shape}')\n",
    "print(f'Test  Y shape  = {test_Y.shape}')\n"
   ]
  },
  {
   "cell_type": "code",
   "execution_count": 11,
   "id": "721018a1",
   "metadata": {},
   "outputs": [
    {
     "data": {
      "image/png": "[encoded data removed]",
      "text/plain": [
       "<Figure size 640x480 with 1 Axes>"
      ]
     },
     "metadata": {},
     "output_type": "display_data"
    }
   ],
   "source": [
    "import matplotlib.pyplot as plt\n",
    "\n",
    "# pick a sample to plot\n",
    "sample = 8\n",
    "image = train_X[sample].reshape(28, 28)\n",
    "# plot the sample\n",
    "fig = plt.figure\n",
    "plt.imshow(image, cmap='gray')\n",
    "plt.title(f'This image is a {int(np.argwhere(train_Y[sample]== 1))}')\n",
    "plt.show()"
   ]
  },
  {
   "cell_type": "code",
   "execution_count": 22,
   "id": "c91a5afd",
   "metadata": {},
   "outputs": [
    {
     "name": "stdout",
     "output_type": "stream",
     "text": [
      "iter       Loss      Train Accuracy        Val Accuracy\n",
      "1           0.7                91.7               92.06\n",
      "5          0.51               91.43               91.51\n",
      "Training Complete\n"
     ]
    }
   ],
   "source": [
    "net = Network()\n",
    "net.add_layer(FullyConnectedLinearLayer(784, 500))\n",
    "net.add_layer(ActivationLayer(relU, drelU), dropout_layer=True, keep_prob=0.4)\n",
    "net.add_layer(FullyConnectedLinearLayer(500, 300))\n",
    "net.add_layer(ActivationLayer(relU, drelU), dropout_layer=True, keep_prob=0.6)\n",
    "net.add_layer(FullyConnectedLinearLayer(300, 10))\n",
    "net.add_layer(ActivationLayer(softmax, dsoftmax))\n",
    "\n",
    "net.set_loss(cross_entropy_loss, dcross_entropy_loss)\n",
    "\n",
    "net.load_data( train_X[0:60000,:].T, train_Y[0:60000,:].T, test_X[0:10000,:].T, test_Y[0:10000,:].T)\n",
    "\n",
    "net._reinitalize_weights()\n",
    "\n",
    "def accuracy_metric(X, Y):\n",
    "    return (np.argmax(net.inference(X), axis=0) == np.argmax(Y, axis=0)).sum() / Y.shape[1] * 100\n",
    "\n",
    "net.add_accurace_function(accuracy_metric)\n",
    "\n",
    "\n",
    "net._mini_batch_Adam(learning_rate=0.001, epochs = 5, batch_size = 128, L2_reg = False, L2_lambda = 0.1, adaptive_learning_rate='exponential decay')\n",
    "\n"
   ]
  },
  {
   "cell_type": "code",
   "execution_count": 23,
   "id": "250a2de0",
   "metadata": {},
   "outputs": [
    {
     "data": {
      "text/plain": [
       "545810"
      ]
     },
     "execution_count": 23,
     "metadata": {},
     "output_type": "execute_result"
    }
   ],
   "source": [
    "total_parms = 0\n",
    "\n",
    "for layer in net.layers:\n",
    "    if isinstance(layer, FullyConnectedLinearLayer):\n",
    "        total_parms += np.prod(layer.weights.shape) + np.prod(layer.biases.shape)\n",
    "\n",
    "total_parms"
   ]
  },
  {
   "cell_type": "code",
   "execution_count": 25,
   "id": "7922c715",
   "metadata": {},
   "outputs": [
    {
     "data": {
      "image/png": "[encoded data removed]",
      "text/plain": [
       "<Figure size 640x480 with 1 Axes>"
      ]
     },
     "metadata": {},
     "output_type": "display_data"
    }
   ],
   "source": [
    "import matplotlib.pyplot as plt\n",
    "\n",
    "# pick a sample to plot\n",
    "sample = np.random.randint(0, 10000)\n",
    "image = test_X[sample].reshape(28, 28)\n",
    "\n",
    "example = test_X[sample].reshape(784, 1)\n",
    "y_out= net.inference(example)\n",
    "\n",
    "ind = np.argmax(y_out)\n",
    "# plot the sample\n",
    "fig = plt.figure\n",
    "plt.imshow(image, cmap='gray')\n",
    "\n",
    "plt.title(f'Predicted {ind} with prob {round(float(y_out[ind]),3)}')\n",
    "plt.show()"
   ]
  },
  {
   "cell_type": "code",
   "execution_count": 39,
   "id": "08c19d2c",
   "metadata": {},
   "outputs": [
    {
     "data": {
      "text/plain": [
       "2"
      ]
     },
     "execution_count": 39,
     "metadata": {},
     "output_type": "execute_result"
    }
   ],
   "source": [
    "test_Y[sample].argmax()"
   ]
  },
  {
   "cell_type": "code",
   "execution_count": 26,
   "id": "996baecf",
   "metadata": {},
   "outputs": [
    {
     "name": "stdout",
     "output_type": "stream",
     "text": [
      "iter       Loss      Train Accuracy        Val Accuracy\n"
     ]
    },
    {
     "ename": "AttributeError",
     "evalue": "'NoneType' object has no attribute 'any'",
     "output_type": "error",
     "traceback": [
      "\u001b[1;31m---------------------------------------------------------------------------\u001b[0m",
      "\u001b[1;31mAttributeError\u001b[0m                            Traceback (most recent call last)",
      "Cell \u001b[1;32mIn[26], line 18\u001b[0m\n\u001b[0;32m     14\u001b[0m net\u001b[39m.\u001b[39mload_data( x_train, y_train)\n\u001b[0;32m     16\u001b[0m net\u001b[39m.\u001b[39madd_accurace_function(mse_loss)\n\u001b[1;32m---> 18\u001b[0m net\u001b[39m.\u001b[39;49m_stochastic_gradient_descent(learning_rate\u001b[39m=\u001b[39;49m\u001b[39m0.1\u001b[39;49m, epochs\u001b[39m=\u001b[39;49m\u001b[39m100\u001b[39;49m)\n",
      "File \u001b[1;32mc:\\Users\\nisha\\project_repositories\\MNIST_from_scratch\\MNIST_From_Scratch\\NetworkModules\\Network.py:105\u001b[0m, in \u001b[0;36mNetwork._stochastic_gradient_descent\u001b[1;34m(self, learning_rate, epochs, L2_reg, L2_lambda)\u001b[0m\n\u001b[0;32m    101\u001b[0m             gradient_next \u001b[39m=\u001b[39m layer\u001b[39m.\u001b[39mbackward(gradient_next, learning_rate, L2_reg, L2_lambda)\n\u001b[0;32m    104\u001b[0m     \u001b[39mif\u001b[39;00m (i\u001b[39m%\u001b[39m\u001b[39m5\u001b[39m \u001b[39m==\u001b[39m \u001b[39m0\u001b[39m) \u001b[39mor\u001b[39;00m (i \u001b[39m==\u001b[39m epochs\u001b[39m-\u001b[39m\u001b[39m1\u001b[39m):\n\u001b[1;32m--> 105\u001b[0m         \u001b[39mself\u001b[39;49m\u001b[39m.\u001b[39;49m_iteration_summary(i\u001b[39m+\u001b[39;49m\u001b[39m1\u001b[39;49m, error\u001b[39m/\u001b[39;49msamples)\n\u001b[0;32m    107\u001b[0m \u001b[39mprint\u001b[39m(\u001b[39m'\u001b[39m\u001b[39mTraining Complete\u001b[39m\u001b[39m'\u001b[39m)\n\u001b[0;32m    108\u001b[0m \u001b[39mreturn\u001b[39;00m \u001b[39mNone\u001b[39;00m\n",
      "File \u001b[1;32mc:\\Users\\nisha\\project_repositories\\MNIST_from_scratch\\MNIST_From_Scratch\\NetworkModules\\Network.py:285\u001b[0m, in \u001b[0;36mNetwork._iteration_summary\u001b[1;34m(self, iter, _error)\u001b[0m\n\u001b[0;32m    283\u001b[0m     \u001b[39mprint\u001b[39m(\u001b[39m'\u001b[39m\u001b[39m{:<10s}\u001b[39;00m\u001b[39m{:>5s}\u001b[39;00m\u001b[39m{:>20s}\u001b[39;00m\u001b[39m{:>20s}\u001b[39;00m\u001b[39m'\u001b[39m\u001b[39m.\u001b[39mformat(\u001b[39m'\u001b[39m\u001b[39miter\u001b[39m\u001b[39m'\u001b[39m,\u001b[39m'\u001b[39m\u001b[39mLoss\u001b[39m\u001b[39m'\u001b[39m,\u001b[39m'\u001b[39m\u001b[39mTrain Accuracy\u001b[39m\u001b[39m'\u001b[39m, \u001b[39m'\u001b[39m\u001b[39mVal Accuracy\u001b[39m\u001b[39m'\u001b[39m))\n\u001b[0;32m    284\u001b[0m \u001b[39melse\u001b[39;00m:\n\u001b[1;32m--> 285\u001b[0m     \u001b[39mif\u001b[39;00m \u001b[39mself\u001b[39;49m\u001b[39m.\u001b[39;49mx_val\u001b[39m.\u001b[39;49many() \u001b[39m!=\u001b[39m \u001b[39mNone\u001b[39;00m:\n\u001b[0;32m    286\u001b[0m         train_accuracy \u001b[39m=\u001b[39m \u001b[39mround\u001b[39m(\u001b[39mself\u001b[39m\u001b[39m.\u001b[39maccuracy_function(\u001b[39mself\u001b[39m\u001b[39m.\u001b[39mx_train, \u001b[39mself\u001b[39m\u001b[39m.\u001b[39my_train), \u001b[39m2\u001b[39m)\n\u001b[0;32m    287\u001b[0m         val_accuracy \u001b[39m=\u001b[39m \u001b[39mround\u001b[39m(\u001b[39mself\u001b[39m\u001b[39m.\u001b[39maccuracy_function(\u001b[39mself\u001b[39m\u001b[39m.\u001b[39mx_val, \u001b[39mself\u001b[39m\u001b[39m.\u001b[39my_val), \u001b[39m2\u001b[39m)\n",
      "\u001b[1;31mAttributeError\u001b[0m: 'NoneType' object has no attribute 'any'"
     ]
    }
   ],
   "source": [
    "\n",
    "\n",
    "\n",
    "# training data\n",
    "x_train = np.array([[0,0], [0,1], [1,0], [1,1]]).T\n",
    "y_train = np.array([[0], [1], [1], [0]]).T\n",
    "\n",
    "\n",
    "net = Network()\n",
    "net.add_layer(FullyConnectedLinearLayer(2, 3))\n",
    "net.add_layer(ActivationLayer(tanh, dtanh))\n",
    "net.add_layer(FullyConnectedLinearLayer(3, 1))\n",
    "net.add_layer(ActivationLayer(tanh, dtanh))\n",
    "\n",
    "net.set_loss(mse_loss, dmse_loss)\n",
    "\n",
    "net.load_data( x_train, y_train)\n",
    "\n",
    "net.add_accurace_function(mse_loss)\n",
    "\n",
    "net._stochastic_gradient_descent(learning_rate=0.1, epochs=100)"
   ]
  },
  {
   "attachments": {},
   "cell_type": "markdown",
   "id": "3ba08bf6",
   "metadata": {},
   "source": [
    "# Individual Assignment Data\n"
   ]
  },
  {
   "cell_type": "code",
   "execution_count": 27,
   "id": "aa20dac8",
   "metadata": {},
   "outputs": [],
   "source": [
    "from scipy.io import loadmat\n",
    "\n",
    "dat = {}\n",
    "NN_data = loadmat('dataset/NN_proj_data_10.mat', mdict = dat)"
   ]
  },
  {
   "cell_type": "code",
   "execution_count": 93,
   "id": "4da8bc1b",
   "metadata": {},
   "outputs": [
    {
     "name": "stdout",
     "output_type": "stream",
     "text": [
      "iter       Loss      Train Accuracy        Val Accuracy\n",
      "1          1.15                1.08                0.89\n",
      "6           0.5                0.42                0.43\n",
      "11         0.13                0.11                0.66\n",
      "16         0.11                0.04                1.08\n",
      "21         0.08                0.04                1.31\n",
      "26         0.07                0.03                1.26\n",
      "31         0.07                0.03                1.15\n",
      "36          0.1                0.03                1.12\n",
      "41         0.08                0.02                1.11\n",
      "46         0.05                0.02                1.14\n",
      "51         0.07                0.02                1.18\n",
      "56         0.07                0.02                1.17\n",
      "61         0.06                0.02                1.18\n",
      "66         0.05                0.02                1.17\n",
      "71         0.05                0.02                1.16\n",
      "76         0.07                0.02                1.17\n",
      "81         0.05                0.02                1.15\n",
      "86          0.1                0.02                1.13\n",
      "91         0.05                0.02                1.12\n",
      "96         0.05                0.01                1.12\n",
      "101        0.04                0.01                 1.1\n",
      "106        0.05                0.01                1.05\n",
      "111        0.04                0.01                1.04\n",
      "116        0.05                0.01                1.03\n",
      "121        0.03                0.01                1.02\n",
      "126        0.05                0.01                1.03\n",
      "131        0.06                0.01                 1.0\n",
      "136        0.04                0.02                1.09\n",
      "141        0.03                0.01                1.04\n",
      "146        0.04                0.01                 1.0\n",
      "151        0.03                0.01                1.02\n",
      "156        0.05                0.01                0.94\n",
      "161        0.04                0.01                0.97\n",
      "166        0.05                0.01                0.95\n",
      "171        0.05                0.01                 0.9\n",
      "176        0.03                0.02                0.98\n",
      "181        0.04                0.01                0.98\n",
      "186        0.06                0.01                0.89\n",
      "191        0.06                0.01                0.92\n",
      "196        0.05                0.01                0.85\n",
      "201        0.05                0.01                0.86\n",
      "206        0.04                0.02                0.98\n",
      "211        0.03                0.01                0.87\n",
      "216        0.06                0.01                0.82\n",
      "221        0.05                0.02                0.91\n",
      "226        0.04                0.01                0.82\n",
      "231        0.03                0.01                0.82\n",
      "236        0.04                0.01                0.89\n",
      "241        0.03                0.01                0.83\n",
      "246        0.03                0.01                0.81\n",
      "251        0.04                0.01                0.82\n",
      "256        0.03                0.01                0.82\n",
      "261        0.03                0.01                0.81\n",
      "266        0.02                0.01                0.81\n",
      "271        0.03                0.01                0.81\n",
      "276        0.04                0.01                0.78\n",
      "281        0.03                0.01                 0.8\n",
      "286        0.02                0.01                0.84\n",
      "291        0.04                0.01                0.84\n",
      "296        0.02                0.01                 0.8\n",
      "301        0.03                0.01                0.77\n",
      "306        0.03                0.01                 0.8\n",
      "311        0.03                0.01                0.78\n",
      "316        0.02                0.01                0.77\n",
      "321        0.02                0.01                0.76\n",
      "326        0.03                0.01                0.79\n",
      "331        0.03                0.01                0.76\n",
      "336        0.04                0.01                0.77\n",
      "341        0.03                0.01                0.75\n",
      "346        0.02                0.01                0.74\n",
      "351        0.03                0.01                0.79\n",
      "356        0.02                0.01                0.78\n",
      "361        0.02                0.01                0.75\n",
      "366        0.03                0.01                0.74\n",
      "371        0.03                0.01                0.78\n",
      "376        0.02                0.01                0.75\n",
      "381        0.02                0.01                0.75\n",
      "386        0.02                0.01                0.74\n",
      "391        0.03                0.01                0.75\n",
      "396        0.03                0.01                0.79\n",
      "401        0.03                0.01                0.77\n",
      "406        0.03                0.01                0.74\n",
      "411        0.03                0.01                0.73\n",
      "416        0.02                0.01                0.78\n",
      "421        0.02                0.01                0.76\n",
      "426        0.02                0.01                0.72\n",
      "431        0.03                0.01                0.71\n",
      "436        0.04                0.01                0.76\n",
      "441        0.02                0.01                0.71\n",
      "446        0.02                0.01                0.71\n",
      "451        0.01                0.01                0.74\n",
      "456        0.02                0.01                0.77\n",
      "461        0.02                0.01                0.71\n",
      "466        0.03                0.01                0.73\n",
      "471        0.03                0.01                0.74\n",
      "476        0.03                0.01                0.74\n",
      "481        0.01                0.01                0.75\n",
      "486        0.02                 0.0                0.74\n",
      "491        0.02                 0.0                0.74\n",
      "496        0.02                 0.0                0.73\n",
      "500        0.03                 0.0                0.74\n",
      "Training Complete\n"
     ]
    }
   ],
   "source": [
    "x_train = dat['inp_train']\n",
    "y_train = dat['y10']\n",
    "\n",
    "x_valid = dat['inp_valid']\n",
    "y_valid = dat['y10val']\n",
    "\n",
    "net = Network()\n",
    "net.add_layer(FullyConnectedLinearLayer(1, 50))\n",
    "net.add_layer(ActivationLayer(relU, drelU), dropout_layer=True, keep_prob= 0.95)\n",
    "net.add_layer(FullyConnectedLinearLayer(50, 25))\n",
    "net.add_layer(ActivationLayer(tanh, dtanh), dropout_layer=True, keep_prob= 0.95)\n",
    "net.add_layer(FullyConnectedLinearLayer(25, 1))\n",
    "\n",
    "\n",
    "# net.add_layer(ActivationLayer(tanh, dtanh))\n",
    "\n",
    "# net._reinitalize_weights()\n",
    "\n",
    "net.set_loss(mse_loss, dmse_loss)\n",
    "\n",
    "net.load_data( x_train, y_train, x_valid, y_valid)\n",
    "\n",
    "\n",
    "def mse_accuracy(X, Y):\n",
    "    return np.mean(np.power(net.inference(X) - Y, 2))\n",
    "\n",
    "net.add_accurace_function(mse_accuracy)\n",
    "\n",
    "net._mini_batch_Adam(learning_rate=0.001, epochs=500, batch_size = 64, L2_reg=True, L2_lambda=0.001)\n",
    "\n"
   ]
  },
  {
   "cell_type": "code",
   "execution_count": 94,
   "id": "257baa94",
   "metadata": {},
   "outputs": [
    {
     "data": {
      "image/png": "[encoded data removed]",
      "text/plain": [
       "<Figure size 640x480 with 1 Axes>"
      ]
     },
     "metadata": {},
     "output_type": "display_data"
    },
    {
     "data": {
      "image/png": "[encoded data removed]",
      "text/plain": [
       "<Figure size 640x480 with 1 Axes>"
      ]
     },
     "metadata": {},
     "output_type": "display_data"
    }
   ],
   "source": [
    "plt.plot(x_train.T, y_train.T, 'r.')\n",
    "plt.plot(x_train.T, net.inference(x_train).T, 'r')\n",
    "plt.show()\n",
    "plt.plot(x_valid.T, y_valid.T, 'b.')\n",
    "plt.plot(x_valid.T, net.inference(x_valid).T, 'b')\n",
    "plt.show()\n",
    "\n"
   ]
  },
  {
   "cell_type": "code",
   "execution_count": null,
   "id": "4ea0a604",
   "metadata": {},
   "outputs": [],
   "source": [
    "net.inference(x_valid)"
   ]
  },
  {
   "cell_type": "code",
   "execution_count": null,
   "id": "183f2afc",
   "metadata": {},
   "outputs": [],
   "source": []
  }
 ],
 "metadata": {
  "kernelspec": {
   "display_name": "Python 3 (ipykernel)",
   "language": "python",
   "name": "python3"
  },
  "language_info": {
   "codemirror_mode": {
    "name": "ipython",
    "version": 3
   },
   "file_extension": ".py",
   "mimetype": "text/x-python",
   "name": "python",
   "nbconvert_exporter": "python",
   "pygments_lexer": "ipython3",
   "version": "3.10.10"
  }
 },
 "nbformat": 4,
 "nbformat_minor": 5
}
